{
 "cells": [
  {
   "cell_type": "code",
   "execution_count": 1,
   "metadata": {
    "execution": {
     "iopub.execute_input": "2025-05-15T09:29:27.332179Z",
     "iopub.status.busy": "2025-05-15T09:29:27.331801Z",
     "iopub.status.idle": "2025-05-15T09:29:43.921804Z",
     "shell.execute_reply": "2025-05-15T09:29:43.920351Z",
     "shell.execute_reply.started": "2025-05-15T09:29:27.332144Z"
    },
    "id": "BC3j2Fc1QPMb"
   },
   "outputs": [
    {
     "name": "stdout",
     "output_type": "stream",
     "text": [
      "WARNING:tensorflow:From C:\\Users\\DELL E5480\\AppData\\Roaming\\Python\\Python310\\site-packages\\keras\\src\\losses.py:2976: The name tf.losses.sparse_softmax_cross_entropy is deprecated. Please use tf.compat.v1.losses.sparse_softmax_cross_entropy instead.\n",
      "\n"
     ]
    }
   ],
   "source": [
    "import numpy as np\n",
    "import pandas as pd\n",
    "from IPython.display import display\n",
    "import itertools\n",
    "import matplotlib.pyplot as plt\n",
    "\n",
    "import tensorflow as tf\n",
    "from tensorflow import keras\n",
    "from tensorflow.keras.layers import Dense\n",
    "from tensorflow.keras import Sequential, callbacks, regularizers\n",
    "from tensorflow.keras.losses import MeanSquaredError"
   ]
  },
  {
   "cell_type": "markdown",
   "metadata": {
    "id": "cIgIPUMVQPMe"
   },
   "source": [
    "# Data wrangling"
   ]
  },
  {
   "cell_type": "code",
   "execution_count": 2,
   "metadata": {
    "execution": {
     "iopub.execute_input": "2025-05-14T12:28:17.762121Z",
     "iopub.status.busy": "2025-05-14T12:28:17.761593Z",
     "iopub.status.idle": "2025-05-14T12:28:18.062641Z",
     "shell.execute_reply": "2025-05-14T12:28:18.061656Z",
     "shell.execute_reply.started": "2025-05-14T12:28:17.762065Z"
    },
    "id": "X1QxAihKQPMi"
   },
   "outputs": [],
   "source": [
    "# Load datasets:\n",
    "train_seq = pd.read_csv(\"train_sequences.csv\")\n",
    "train_lab = pd.read_csv(\"train_labels.csv\")\n",
    "val_seq = pd.read_csv(\"validation_sequences.csv\")\n",
    "val_lab = pd.read_csv(\"validation_labels.csv\")"
   ]
  },
  {
   "cell_type": "code",
   "execution_count": 3,
   "metadata": {
    "execution": {
     "iopub.execute_input": "2025-05-14T12:28:18.065315Z",
     "iopub.status.busy": "2025-05-14T12:28:18.064811Z",
     "iopub.status.idle": "2025-05-14T12:28:18.112442Z",
     "shell.execute_reply": "2025-05-14T12:28:18.111487Z",
     "shell.execute_reply.started": "2025-05-14T12:28:18.06527Z"
    },
    "id": "HSpnXWeBQPMl"
   },
   "outputs": [
    {
     "data": {
      "text/html": [
       "<div>\n",
       "<style scoped>\n",
       "    .dataframe tbody tr th:only-of-type {\n",
       "        vertical-align: middle;\n",
       "    }\n",
       "\n",
       "    .dataframe tbody tr th {\n",
       "        vertical-align: top;\n",
       "    }\n",
       "\n",
       "    .dataframe thead th {\n",
       "        text-align: right;\n",
       "    }\n",
       "</style>\n",
       "<table border=\"1\" class=\"dataframe\">\n",
       "  <thead>\n",
       "    <tr style=\"text-align: right;\">\n",
       "      <th></th>\n",
       "      <th>target_id</th>\n",
       "      <th>sequence</th>\n",
       "      <th>temporal_cutoff</th>\n",
       "      <th>description</th>\n",
       "      <th>all_sequences</th>\n",
       "    </tr>\n",
       "  </thead>\n",
       "  <tbody>\n",
       "    <tr>\n",
       "      <th>0</th>\n",
       "      <td>1SCL_A</td>\n",
       "      <td>GGGUGCUCAGUACGAGAGGAACCGCACCC</td>\n",
       "      <td>1995-01-26</td>\n",
       "      <td>THE SARCIN-RICIN LOOP, A MODULAR RNA</td>\n",
       "      <td>&gt;1SCL_1|Chain A|RNA SARCIN-RICIN LOOP|Rattus n...</td>\n",
       "    </tr>\n",
       "    <tr>\n",
       "      <th>1</th>\n",
       "      <td>1RNK_A</td>\n",
       "      <td>GGCGCAGUGGGCUAGCGCCACUCAAAAGGCCCAU</td>\n",
       "      <td>1995-02-27</td>\n",
       "      <td>THE STRUCTURE OF AN RNA PSEUDOKNOT THAT CAUSES...</td>\n",
       "      <td>&gt;1RNK_1|Chain A|RNA PSEUDOKNOT|null\\nGGCGCAGUG...</td>\n",
       "    </tr>\n",
       "    <tr>\n",
       "      <th>2</th>\n",
       "      <td>1RHT_A</td>\n",
       "      <td>GGGACUGACGAUCACGCAGUCUAU</td>\n",
       "      <td>1995-06-03</td>\n",
       "      <td>24-MER RNA HAIRPIN COAT PROTEIN BINDING SITE F...</td>\n",
       "      <td>&gt;1RHT_1|Chain A|RNA (5'-R(P*GP*GP*GP*AP*CP*UP*...</td>\n",
       "    </tr>\n",
       "  </tbody>\n",
       "</table>\n",
       "</div>"
      ],
      "text/plain": [
       "  target_id                            sequence temporal_cutoff  \\\n",
       "0    1SCL_A       GGGUGCUCAGUACGAGAGGAACCGCACCC      1995-01-26   \n",
       "1    1RNK_A  GGCGCAGUGGGCUAGCGCCACUCAAAAGGCCCAU      1995-02-27   \n",
       "2    1RHT_A            GGGACUGACGAUCACGCAGUCUAU      1995-06-03   \n",
       "\n",
       "                                         description  \\\n",
       "0               THE SARCIN-RICIN LOOP, A MODULAR RNA   \n",
       "1  THE STRUCTURE OF AN RNA PSEUDOKNOT THAT CAUSES...   \n",
       "2  24-MER RNA HAIRPIN COAT PROTEIN BINDING SITE F...   \n",
       "\n",
       "                                       all_sequences  \n",
       "0  >1SCL_1|Chain A|RNA SARCIN-RICIN LOOP|Rattus n...  \n",
       "1  >1RNK_1|Chain A|RNA PSEUDOKNOT|null\\nGGCGCAGUG...  \n",
       "2  >1RHT_1|Chain A|RNA (5'-R(P*GP*GP*GP*AP*CP*UP*...  "
      ]
     },
     "metadata": {},
     "output_type": "display_data"
    },
    {
     "data": {
      "text/html": [
       "<div>\n",
       "<style scoped>\n",
       "    .dataframe tbody tr th:only-of-type {\n",
       "        vertical-align: middle;\n",
       "    }\n",
       "\n",
       "    .dataframe tbody tr th {\n",
       "        vertical-align: top;\n",
       "    }\n",
       "\n",
       "    .dataframe thead th {\n",
       "        text-align: right;\n",
       "    }\n",
       "</style>\n",
       "<table border=\"1\" class=\"dataframe\">\n",
       "  <thead>\n",
       "    <tr style=\"text-align: right;\">\n",
       "      <th></th>\n",
       "      <th>ID</th>\n",
       "      <th>resname</th>\n",
       "      <th>resid</th>\n",
       "      <th>x_1</th>\n",
       "      <th>y_1</th>\n",
       "      <th>z_1</th>\n",
       "    </tr>\n",
       "  </thead>\n",
       "  <tbody>\n",
       "    <tr>\n",
       "      <th>0</th>\n",
       "      <td>1SCL_A_1</td>\n",
       "      <td>G</td>\n",
       "      <td>1</td>\n",
       "      <td>13.760</td>\n",
       "      <td>-25.974001</td>\n",
       "      <td>0.102</td>\n",
       "    </tr>\n",
       "    <tr>\n",
       "      <th>1</th>\n",
       "      <td>1SCL_A_2</td>\n",
       "      <td>G</td>\n",
       "      <td>2</td>\n",
       "      <td>9.310</td>\n",
       "      <td>-29.638000</td>\n",
       "      <td>2.669</td>\n",
       "    </tr>\n",
       "    <tr>\n",
       "      <th>2</th>\n",
       "      <td>1SCL_A_3</td>\n",
       "      <td>G</td>\n",
       "      <td>3</td>\n",
       "      <td>5.529</td>\n",
       "      <td>-27.813000</td>\n",
       "      <td>5.878</td>\n",
       "    </tr>\n",
       "  </tbody>\n",
       "</table>\n",
       "</div>"
      ],
      "text/plain": [
       "         ID resname  resid     x_1        y_1    z_1\n",
       "0  1SCL_A_1       G      1  13.760 -25.974001  0.102\n",
       "1  1SCL_A_2       G      2   9.310 -29.638000  2.669\n",
       "2  1SCL_A_3       G      3   5.529 -27.813000  5.878"
      ]
     },
     "metadata": {},
     "output_type": "display_data"
    },
    {
     "data": {
      "text/html": [
       "<div>\n",
       "<style scoped>\n",
       "    .dataframe tbody tr th:only-of-type {\n",
       "        vertical-align: middle;\n",
       "    }\n",
       "\n",
       "    .dataframe tbody tr th {\n",
       "        vertical-align: top;\n",
       "    }\n",
       "\n",
       "    .dataframe thead th {\n",
       "        text-align: right;\n",
       "    }\n",
       "</style>\n",
       "<table border=\"1\" class=\"dataframe\">\n",
       "  <thead>\n",
       "    <tr style=\"text-align: right;\">\n",
       "      <th></th>\n",
       "      <th>target_id</th>\n",
       "      <th>sequence</th>\n",
       "      <th>temporal_cutoff</th>\n",
       "      <th>description</th>\n",
       "      <th>all_sequences</th>\n",
       "    </tr>\n",
       "  </thead>\n",
       "  <tbody>\n",
       "    <tr>\n",
       "      <th>0</th>\n",
       "      <td>R1107</td>\n",
       "      <td>GGGGGCCACAGCAGAAGCGUUCACGUCGCAGCCCCUGUCAGCCAUU...</td>\n",
       "      <td>2022-05-28</td>\n",
       "      <td>CPEB3 ribozyme\\nHuman\\nhuman CPEB3 HDV-like ri...</td>\n",
       "      <td>&gt;7QR4_1|Chain A|U1 small nuclear ribonucleopro...</td>\n",
       "    </tr>\n",
       "    <tr>\n",
       "      <th>1</th>\n",
       "      <td>R1108</td>\n",
       "      <td>GGGGGCCACAGCAGAAGCGUUCACGUCGCGGCCCCUGUCAGCCAUU...</td>\n",
       "      <td>2022-05-27</td>\n",
       "      <td>CPEB3 ribozyme\\nChimpanzee\\nChimpanzee CPEB3 H...</td>\n",
       "      <td>&gt;7QR3_1|Chains A, B|U1 small nuclear ribonucle...</td>\n",
       "    </tr>\n",
       "    <tr>\n",
       "      <th>2</th>\n",
       "      <td>R1116</td>\n",
       "      <td>CGCCCGGAUAGCUCAGUCGGUAGAGCAGCGGCUAAAACAGCUCUGG...</td>\n",
       "      <td>2022-06-04</td>\n",
       "      <td>Cloverleaf RNA\\nPoliovirus\\nCrystal Structure ...</td>\n",
       "      <td>&gt;8S95_1|Chain A[auth C]|Lysine tRNA scaffold,P...</td>\n",
       "    </tr>\n",
       "  </tbody>\n",
       "</table>\n",
       "</div>"
      ],
      "text/plain": [
       "  target_id                                           sequence  \\\n",
       "0     R1107  GGGGGCCACAGCAGAAGCGUUCACGUCGCAGCCCCUGUCAGCCAUU...   \n",
       "1     R1108  GGGGGCCACAGCAGAAGCGUUCACGUCGCGGCCCCUGUCAGCCAUU...   \n",
       "2     R1116  CGCCCGGAUAGCUCAGUCGGUAGAGCAGCGGCUAAAACAGCUCUGG...   \n",
       "\n",
       "  temporal_cutoff                                        description  \\\n",
       "0      2022-05-28  CPEB3 ribozyme\\nHuman\\nhuman CPEB3 HDV-like ri...   \n",
       "1      2022-05-27  CPEB3 ribozyme\\nChimpanzee\\nChimpanzee CPEB3 H...   \n",
       "2      2022-06-04  Cloverleaf RNA\\nPoliovirus\\nCrystal Structure ...   \n",
       "\n",
       "                                       all_sequences  \n",
       "0  >7QR4_1|Chain A|U1 small nuclear ribonucleopro...  \n",
       "1  >7QR3_1|Chains A, B|U1 small nuclear ribonucle...  \n",
       "2  >8S95_1|Chain A[auth C]|Lysine tRNA scaffold,P...  "
      ]
     },
     "metadata": {},
     "output_type": "display_data"
    },
    {
     "data": {
      "text/html": [
       "<div>\n",
       "<style scoped>\n",
       "    .dataframe tbody tr th:only-of-type {\n",
       "        vertical-align: middle;\n",
       "    }\n",
       "\n",
       "    .dataframe tbody tr th {\n",
       "        vertical-align: top;\n",
       "    }\n",
       "\n",
       "    .dataframe thead th {\n",
       "        text-align: right;\n",
       "    }\n",
       "</style>\n",
       "<table border=\"1\" class=\"dataframe\">\n",
       "  <thead>\n",
       "    <tr style=\"text-align: right;\">\n",
       "      <th></th>\n",
       "      <th>ID</th>\n",
       "      <th>resname</th>\n",
       "      <th>resid</th>\n",
       "      <th>x_1</th>\n",
       "      <th>y_1</th>\n",
       "      <th>z_1</th>\n",
       "      <th>x_2</th>\n",
       "      <th>y_2</th>\n",
       "      <th>z_2</th>\n",
       "      <th>x_3</th>\n",
       "      <th>...</th>\n",
       "      <th>z_37</th>\n",
       "      <th>x_38</th>\n",
       "      <th>y_38</th>\n",
       "      <th>z_38</th>\n",
       "      <th>x_39</th>\n",
       "      <th>y_39</th>\n",
       "      <th>z_39</th>\n",
       "      <th>x_40</th>\n",
       "      <th>y_40</th>\n",
       "      <th>z_40</th>\n",
       "    </tr>\n",
       "  </thead>\n",
       "  <tbody>\n",
       "    <tr>\n",
       "      <th>0</th>\n",
       "      <td>R1107_1</td>\n",
       "      <td>G</td>\n",
       "      <td>1</td>\n",
       "      <td>-5.499</td>\n",
       "      <td>8.520</td>\n",
       "      <td>8.605000</td>\n",
       "      <td>-1.000000e+18</td>\n",
       "      <td>-1.000000e+18</td>\n",
       "      <td>-1.000000e+18</td>\n",
       "      <td>-1.000000e+18</td>\n",
       "      <td>...</td>\n",
       "      <td>-1.000000e+18</td>\n",
       "      <td>-1.000000e+18</td>\n",
       "      <td>-1.000000e+18</td>\n",
       "      <td>-1.000000e+18</td>\n",
       "      <td>-1.000000e+18</td>\n",
       "      <td>-1.000000e+18</td>\n",
       "      <td>-1.000000e+18</td>\n",
       "      <td>-1.000000e+18</td>\n",
       "      <td>-1.000000e+18</td>\n",
       "      <td>-1.000000e+18</td>\n",
       "    </tr>\n",
       "    <tr>\n",
       "      <th>1</th>\n",
       "      <td>R1107_2</td>\n",
       "      <td>G</td>\n",
       "      <td>2</td>\n",
       "      <td>-5.826</td>\n",
       "      <td>10.453</td>\n",
       "      <td>14.010000</td>\n",
       "      <td>-1.000000e+18</td>\n",
       "      <td>-1.000000e+18</td>\n",
       "      <td>-1.000000e+18</td>\n",
       "      <td>-1.000000e+18</td>\n",
       "      <td>...</td>\n",
       "      <td>-1.000000e+18</td>\n",
       "      <td>-1.000000e+18</td>\n",
       "      <td>-1.000000e+18</td>\n",
       "      <td>-1.000000e+18</td>\n",
       "      <td>-1.000000e+18</td>\n",
       "      <td>-1.000000e+18</td>\n",
       "      <td>-1.000000e+18</td>\n",
       "      <td>-1.000000e+18</td>\n",
       "      <td>-1.000000e+18</td>\n",
       "      <td>-1.000000e+18</td>\n",
       "    </tr>\n",
       "    <tr>\n",
       "      <th>2</th>\n",
       "      <td>R1107_3</td>\n",
       "      <td>G</td>\n",
       "      <td>3</td>\n",
       "      <td>-5.849</td>\n",
       "      <td>14.768</td>\n",
       "      <td>17.584999</td>\n",
       "      <td>-1.000000e+18</td>\n",
       "      <td>-1.000000e+18</td>\n",
       "      <td>-1.000000e+18</td>\n",
       "      <td>-1.000000e+18</td>\n",
       "      <td>...</td>\n",
       "      <td>-1.000000e+18</td>\n",
       "      <td>-1.000000e+18</td>\n",
       "      <td>-1.000000e+18</td>\n",
       "      <td>-1.000000e+18</td>\n",
       "      <td>-1.000000e+18</td>\n",
       "      <td>-1.000000e+18</td>\n",
       "      <td>-1.000000e+18</td>\n",
       "      <td>-1.000000e+18</td>\n",
       "      <td>-1.000000e+18</td>\n",
       "      <td>-1.000000e+18</td>\n",
       "    </tr>\n",
       "  </tbody>\n",
       "</table>\n",
       "<p>3 rows × 123 columns</p>\n",
       "</div>"
      ],
      "text/plain": [
       "        ID resname  resid    x_1     y_1        z_1           x_2  \\\n",
       "0  R1107_1       G      1 -5.499   8.520   8.605000 -1.000000e+18   \n",
       "1  R1107_2       G      2 -5.826  10.453  14.010000 -1.000000e+18   \n",
       "2  R1107_3       G      3 -5.849  14.768  17.584999 -1.000000e+18   \n",
       "\n",
       "            y_2           z_2           x_3  ...          z_37          x_38  \\\n",
       "0 -1.000000e+18 -1.000000e+18 -1.000000e+18  ... -1.000000e+18 -1.000000e+18   \n",
       "1 -1.000000e+18 -1.000000e+18 -1.000000e+18  ... -1.000000e+18 -1.000000e+18   \n",
       "2 -1.000000e+18 -1.000000e+18 -1.000000e+18  ... -1.000000e+18 -1.000000e+18   \n",
       "\n",
       "           y_38          z_38          x_39          y_39          z_39  \\\n",
       "0 -1.000000e+18 -1.000000e+18 -1.000000e+18 -1.000000e+18 -1.000000e+18   \n",
       "1 -1.000000e+18 -1.000000e+18 -1.000000e+18 -1.000000e+18 -1.000000e+18   \n",
       "2 -1.000000e+18 -1.000000e+18 -1.000000e+18 -1.000000e+18 -1.000000e+18   \n",
       "\n",
       "           x_40          y_40          z_40  \n",
       "0 -1.000000e+18 -1.000000e+18 -1.000000e+18  \n",
       "1 -1.000000e+18 -1.000000e+18 -1.000000e+18  \n",
       "2 -1.000000e+18 -1.000000e+18 -1.000000e+18  \n",
       "\n",
       "[3 rows x 123 columns]"
      ]
     },
     "metadata": {},
     "output_type": "display_data"
    }
   ],
   "source": [
    "# Quick look at the data:\n",
    "for data in [train_seq, train_lab, val_seq, val_lab]:\n",
    "    display(data[:3])"
   ]
  },
  {
   "cell_type": "code",
   "execution_count": 4,
   "metadata": {
    "execution": {
     "iopub.execute_input": "2025-05-14T12:28:18.113984Z",
     "iopub.status.busy": "2025-05-14T12:28:18.113727Z",
     "iopub.status.idle": "2025-05-14T12:28:18.499017Z",
     "shell.execute_reply": "2025-05-14T12:28:18.498132Z",
     "shell.execute_reply.started": "2025-05-14T12:28:18.113959Z"
    },
    "id": "kWGGyEBSQPMo"
   },
   "outputs": [],
   "source": [
    "#removing resid-numbers from the IDs\n",
    "for df in [train_lab, val_lab]:\n",
    "    df['ID'] = df['ID'].str.extract('(.*)_[\\d]+$')"
   ]
  },
  {
   "cell_type": "code",
   "execution_count": 5,
   "metadata": {
    "execution": {
     "iopub.execute_input": "2025-05-14T12:28:18.500347Z",
     "iopub.status.busy": "2025-05-14T12:28:18.499946Z",
     "iopub.status.idle": "2025-05-14T12:28:18.534103Z",
     "shell.execute_reply": "2025-05-14T12:28:18.533128Z",
     "shell.execute_reply.started": "2025-05-14T12:28:18.500309Z"
    },
    "id": "UbEFxEIAQPMr"
   },
   "outputs": [
    {
     "data": {
      "text/html": [
       "<div>\n",
       "<style scoped>\n",
       "    .dataframe tbody tr th:only-of-type {\n",
       "        vertical-align: middle;\n",
       "    }\n",
       "\n",
       "    .dataframe tbody tr th {\n",
       "        vertical-align: top;\n",
       "    }\n",
       "\n",
       "    .dataframe thead th {\n",
       "        text-align: right;\n",
       "    }\n",
       "</style>\n",
       "<table border=\"1\" class=\"dataframe\">\n",
       "  <thead>\n",
       "    <tr style=\"text-align: right;\">\n",
       "      <th></th>\n",
       "      <th>ID</th>\n",
       "      <th>resname</th>\n",
       "      <th>resid</th>\n",
       "      <th>x_1</th>\n",
       "      <th>y_1</th>\n",
       "      <th>z_1</th>\n",
       "    </tr>\n",
       "  </thead>\n",
       "  <tbody>\n",
       "    <tr>\n",
       "      <th>0</th>\n",
       "      <td>1SCL_A</td>\n",
       "      <td>G</td>\n",
       "      <td>1</td>\n",
       "      <td>13.760</td>\n",
       "      <td>-25.974001</td>\n",
       "      <td>0.102</td>\n",
       "    </tr>\n",
       "    <tr>\n",
       "      <th>1</th>\n",
       "      <td>1SCL_A</td>\n",
       "      <td>G</td>\n",
       "      <td>2</td>\n",
       "      <td>9.310</td>\n",
       "      <td>-29.638000</td>\n",
       "      <td>2.669</td>\n",
       "    </tr>\n",
       "    <tr>\n",
       "      <th>2</th>\n",
       "      <td>1SCL_A</td>\n",
       "      <td>G</td>\n",
       "      <td>3</td>\n",
       "      <td>5.529</td>\n",
       "      <td>-27.813000</td>\n",
       "      <td>5.878</td>\n",
       "    </tr>\n",
       "  </tbody>\n",
       "</table>\n",
       "</div>"
      ],
      "text/plain": [
       "       ID resname  resid     x_1        y_1    z_1\n",
       "0  1SCL_A       G      1  13.760 -25.974001  0.102\n",
       "1  1SCL_A       G      2   9.310 -29.638000  2.669\n",
       "2  1SCL_A       G      3   5.529 -27.813000  5.878"
      ]
     },
     "metadata": {},
     "output_type": "display_data"
    },
    {
     "data": {
      "text/html": [
       "<div>\n",
       "<style scoped>\n",
       "    .dataframe tbody tr th:only-of-type {\n",
       "        vertical-align: middle;\n",
       "    }\n",
       "\n",
       "    .dataframe tbody tr th {\n",
       "        vertical-align: top;\n",
       "    }\n",
       "\n",
       "    .dataframe thead th {\n",
       "        text-align: right;\n",
       "    }\n",
       "</style>\n",
       "<table border=\"1\" class=\"dataframe\">\n",
       "  <thead>\n",
       "    <tr style=\"text-align: right;\">\n",
       "      <th></th>\n",
       "      <th>ID</th>\n",
       "      <th>resname</th>\n",
       "      <th>resid</th>\n",
       "      <th>x_1</th>\n",
       "      <th>y_1</th>\n",
       "      <th>z_1</th>\n",
       "      <th>x_2</th>\n",
       "      <th>y_2</th>\n",
       "      <th>z_2</th>\n",
       "      <th>x_3</th>\n",
       "      <th>...</th>\n",
       "      <th>z_37</th>\n",
       "      <th>x_38</th>\n",
       "      <th>y_38</th>\n",
       "      <th>z_38</th>\n",
       "      <th>x_39</th>\n",
       "      <th>y_39</th>\n",
       "      <th>z_39</th>\n",
       "      <th>x_40</th>\n",
       "      <th>y_40</th>\n",
       "      <th>z_40</th>\n",
       "    </tr>\n",
       "  </thead>\n",
       "  <tbody>\n",
       "    <tr>\n",
       "      <th>0</th>\n",
       "      <td>R1107</td>\n",
       "      <td>G</td>\n",
       "      <td>1</td>\n",
       "      <td>-5.499</td>\n",
       "      <td>8.520</td>\n",
       "      <td>8.605000</td>\n",
       "      <td>-1.000000e+18</td>\n",
       "      <td>-1.000000e+18</td>\n",
       "      <td>-1.000000e+18</td>\n",
       "      <td>-1.000000e+18</td>\n",
       "      <td>...</td>\n",
       "      <td>-1.000000e+18</td>\n",
       "      <td>-1.000000e+18</td>\n",
       "      <td>-1.000000e+18</td>\n",
       "      <td>-1.000000e+18</td>\n",
       "      <td>-1.000000e+18</td>\n",
       "      <td>-1.000000e+18</td>\n",
       "      <td>-1.000000e+18</td>\n",
       "      <td>-1.000000e+18</td>\n",
       "      <td>-1.000000e+18</td>\n",
       "      <td>-1.000000e+18</td>\n",
       "    </tr>\n",
       "    <tr>\n",
       "      <th>1</th>\n",
       "      <td>R1107</td>\n",
       "      <td>G</td>\n",
       "      <td>2</td>\n",
       "      <td>-5.826</td>\n",
       "      <td>10.453</td>\n",
       "      <td>14.010000</td>\n",
       "      <td>-1.000000e+18</td>\n",
       "      <td>-1.000000e+18</td>\n",
       "      <td>-1.000000e+18</td>\n",
       "      <td>-1.000000e+18</td>\n",
       "      <td>...</td>\n",
       "      <td>-1.000000e+18</td>\n",
       "      <td>-1.000000e+18</td>\n",
       "      <td>-1.000000e+18</td>\n",
       "      <td>-1.000000e+18</td>\n",
       "      <td>-1.000000e+18</td>\n",
       "      <td>-1.000000e+18</td>\n",
       "      <td>-1.000000e+18</td>\n",
       "      <td>-1.000000e+18</td>\n",
       "      <td>-1.000000e+18</td>\n",
       "      <td>-1.000000e+18</td>\n",
       "    </tr>\n",
       "    <tr>\n",
       "      <th>2</th>\n",
       "      <td>R1107</td>\n",
       "      <td>G</td>\n",
       "      <td>3</td>\n",
       "      <td>-5.849</td>\n",
       "      <td>14.768</td>\n",
       "      <td>17.584999</td>\n",
       "      <td>-1.000000e+18</td>\n",
       "      <td>-1.000000e+18</td>\n",
       "      <td>-1.000000e+18</td>\n",
       "      <td>-1.000000e+18</td>\n",
       "      <td>...</td>\n",
       "      <td>-1.000000e+18</td>\n",
       "      <td>-1.000000e+18</td>\n",
       "      <td>-1.000000e+18</td>\n",
       "      <td>-1.000000e+18</td>\n",
       "      <td>-1.000000e+18</td>\n",
       "      <td>-1.000000e+18</td>\n",
       "      <td>-1.000000e+18</td>\n",
       "      <td>-1.000000e+18</td>\n",
       "      <td>-1.000000e+18</td>\n",
       "      <td>-1.000000e+18</td>\n",
       "    </tr>\n",
       "  </tbody>\n",
       "</table>\n",
       "<p>3 rows × 123 columns</p>\n",
       "</div>"
      ],
      "text/plain": [
       "      ID resname  resid    x_1     y_1        z_1           x_2           y_2  \\\n",
       "0  R1107       G      1 -5.499   8.520   8.605000 -1.000000e+18 -1.000000e+18   \n",
       "1  R1107       G      2 -5.826  10.453  14.010000 -1.000000e+18 -1.000000e+18   \n",
       "2  R1107       G      3 -5.849  14.768  17.584999 -1.000000e+18 -1.000000e+18   \n",
       "\n",
       "            z_2           x_3  ...          z_37          x_38          y_38  \\\n",
       "0 -1.000000e+18 -1.000000e+18  ... -1.000000e+18 -1.000000e+18 -1.000000e+18   \n",
       "1 -1.000000e+18 -1.000000e+18  ... -1.000000e+18 -1.000000e+18 -1.000000e+18   \n",
       "2 -1.000000e+18 -1.000000e+18  ... -1.000000e+18 -1.000000e+18 -1.000000e+18   \n",
       "\n",
       "           z_38          x_39          y_39          z_39          x_40  \\\n",
       "0 -1.000000e+18 -1.000000e+18 -1.000000e+18 -1.000000e+18 -1.000000e+18   \n",
       "1 -1.000000e+18 -1.000000e+18 -1.000000e+18 -1.000000e+18 -1.000000e+18   \n",
       "2 -1.000000e+18 -1.000000e+18 -1.000000e+18 -1.000000e+18 -1.000000e+18   \n",
       "\n",
       "           y_40          z_40  \n",
       "0 -1.000000e+18 -1.000000e+18  \n",
       "1 -1.000000e+18 -1.000000e+18  \n",
       "2 -1.000000e+18 -1.000000e+18  \n",
       "\n",
       "[3 rows x 123 columns]"
      ]
     },
     "metadata": {},
     "output_type": "display_data"
    }
   ],
   "source": [
    "for data in [train_lab, val_lab]:\n",
    "    display(data[:3])"
   ]
  },
  {
   "cell_type": "code",
   "execution_count": 6,
   "metadata": {
    "execution": {
     "iopub.execute_input": "2025-05-14T12:28:18.535275Z",
     "iopub.status.busy": "2025-05-14T12:28:18.534974Z",
     "iopub.status.idle": "2025-05-14T12:28:18.568214Z",
     "shell.execute_reply": "2025-05-14T12:28:18.567304Z",
     "shell.execute_reply.started": "2025-05-14T12:28:18.535244Z"
    },
    "id": "TsoByV-zQPMv"
   },
   "outputs": [
    {
     "data": {
      "text/plain": [
       "ID            0\n",
       "resname       0\n",
       "resid         0\n",
       "x_1        6145\n",
       "y_1        6145\n",
       "z_1        6145\n",
       "dtype: int64"
      ]
     },
     "metadata": {},
     "output_type": "display_data"
    },
    {
     "data": {
      "text/plain": [
       "ID         0\n",
       "resname    0\n",
       "resid      0\n",
       "x_1        0\n",
       "y_1        0\n",
       "          ..\n",
       "y_39       0\n",
       "z_39       0\n",
       "x_40       0\n",
       "y_40       0\n",
       "z_40       0\n",
       "Length: 123, dtype: int64"
      ]
     },
     "metadata": {},
     "output_type": "display_data"
    }
   ],
   "source": [
    "#cheching for 0 values in train_ and val_lab datasets:\n",
    "for data in [train_lab, val_lab]:\n",
    "    display(data.isnull().sum())"
   ]
  },
  {
   "cell_type": "markdown",
   "metadata": {
    "id": "fh1zDbgxQPMy"
   },
   "source": [
    "The **train_lab** (training labels) dataset has 6145 rows with empty x_1, y_1, z_1 coordinates 😱 <br />\n",
    "Let's select sequences without empty coordinates:"
   ]
  },
  {
   "cell_type": "code",
   "execution_count": 7,
   "metadata": {
    "execution": {
     "iopub.execute_input": "2025-05-14T12:28:18.569622Z",
     "iopub.status.busy": "2025-05-14T12:28:18.569251Z",
     "iopub.status.idle": "2025-05-14T12:28:28.36317Z",
     "shell.execute_reply": "2025-05-14T12:28:28.362195Z",
     "shell.execute_reply.started": "2025-05-14T12:28:18.569586Z"
    },
    "id": "j-p3u6FsQPM1"
   },
   "outputs": [
    {
     "name": "stdout",
     "output_type": "stream",
     "text": [
      "There are 606 sequences with complete x_1, y_1, z_1 coordinates.\n"
     ]
    }
   ],
   "source": [
    "#Checking for sequences with complete x_1, y_1, z_1 coordinates:\n",
    "notempty_ids = []\n",
    "for ID in train_lab.ID.unique():\n",
    "    x_1 = train_lab[train_lab.ID == ID].x_1\n",
    "    if x_1.notnull().all():\n",
    "        notempty_ids.append(ID)\n",
    "\n",
    "print(f\"There are {len(notempty_ids)} sequences with complete x_1, y_1, z_1 coordinates.\")\n",
    "\n",
    "#selecting sequences with known x_1, y_1, z_1 coordinates:\n",
    "train_lab = train_lab[train_lab.ID.isin(notempty_ids)]"
   ]
  },
  {
   "cell_type": "code",
   "execution_count": 8,
   "metadata": {
    "execution": {
     "iopub.execute_input": "2025-05-14T12:28:28.365484Z",
     "iopub.status.busy": "2025-05-14T12:28:28.3652Z",
     "iopub.status.idle": "2025-05-14T12:28:28.375736Z",
     "shell.execute_reply": "2025-05-14T12:28:28.374782Z",
     "shell.execute_reply.started": "2025-05-14T12:28:28.36546Z"
    },
    "id": "0_sXVVG1QPM2"
   },
   "outputs": [
    {
     "data": {
      "text/plain": [
       "array(['G', 'U', 'C', 'A'], dtype=object)"
      ]
     },
     "execution_count": 8,
     "metadata": {},
     "output_type": "execute_result"
    }
   ],
   "source": [
    "#checking if there are still nucleotides other than 'G', 'U', 'C', 'A':\n",
    "train_lab.resname.unique()"
   ]
  },
  {
   "cell_type": "markdown",
   "metadata": {
    "id": "LkQleb6hQPM3"
   },
   "source": [
    "### Length selection"
   ]
  },
  {
   "cell_type": "code",
   "execution_count": 9,
   "metadata": {
    "execution": {
     "iopub.execute_input": "2025-05-14T12:28:28.377197Z",
     "iopub.status.busy": "2025-05-14T12:28:28.376876Z",
     "iopub.status.idle": "2025-05-14T12:28:28.398325Z",
     "shell.execute_reply": "2025-05-14T12:28:28.397191Z",
     "shell.execute_reply.started": "2025-05-14T12:28:28.377172Z"
    },
    "id": "Y5GlceGcQPM4"
   },
   "outputs": [
    {
     "data": {
      "text/html": [
       "<div>\n",
       "<style scoped>\n",
       "    .dataframe tbody tr th:only-of-type {\n",
       "        vertical-align: middle;\n",
       "    }\n",
       "\n",
       "    .dataframe tbody tr th {\n",
       "        vertical-align: top;\n",
       "    }\n",
       "\n",
       "    .dataframe thead th {\n",
       "        text-align: right;\n",
       "    }\n",
       "</style>\n",
       "<table border=\"1\" class=\"dataframe\">\n",
       "  <thead>\n",
       "    <tr style=\"text-align: right;\">\n",
       "      <th></th>\n",
       "      <th>target_id</th>\n",
       "      <th>sequence</th>\n",
       "      <th>temporal_cutoff</th>\n",
       "      <th>description</th>\n",
       "      <th>all_sequences</th>\n",
       "    </tr>\n",
       "  </thead>\n",
       "  <tbody>\n",
       "    <tr>\n",
       "      <th>0</th>\n",
       "      <td>1SCL_A</td>\n",
       "      <td>GGGUGCUCAGUACGAGAGGAACCGCACCC</td>\n",
       "      <td>1995-01-26</td>\n",
       "      <td>THE SARCIN-RICIN LOOP, A MODULAR RNA</td>\n",
       "      <td>&gt;1SCL_1|Chain A|RNA SARCIN-RICIN LOOP|Rattus n...</td>\n",
       "    </tr>\n",
       "    <tr>\n",
       "      <th>1</th>\n",
       "      <td>1RNK_A</td>\n",
       "      <td>GGCGCAGUGGGCUAGCGCCACUCAAAAGGCCCAU</td>\n",
       "      <td>1995-02-27</td>\n",
       "      <td>THE STRUCTURE OF AN RNA PSEUDOKNOT THAT CAUSES...</td>\n",
       "      <td>&gt;1RNK_1|Chain A|RNA PSEUDOKNOT|null\\nGGCGCAGUG...</td>\n",
       "    </tr>\n",
       "    <tr>\n",
       "      <th>2</th>\n",
       "      <td>1RHT_A</td>\n",
       "      <td>GGGACUGACGAUCACGCAGUCUAU</td>\n",
       "      <td>1995-06-03</td>\n",
       "      <td>24-MER RNA HAIRPIN COAT PROTEIN BINDING SITE F...</td>\n",
       "      <td>&gt;1RHT_1|Chain A|RNA (5'-R(P*GP*GP*GP*AP*CP*UP*...</td>\n",
       "    </tr>\n",
       "  </tbody>\n",
       "</table>\n",
       "</div>"
      ],
      "text/plain": [
       "  target_id                            sequence temporal_cutoff  \\\n",
       "0    1SCL_A       GGGUGCUCAGUACGAGAGGAACCGCACCC      1995-01-26   \n",
       "1    1RNK_A  GGCGCAGUGGGCUAGCGCCACUCAAAAGGCCCAU      1995-02-27   \n",
       "2    1RHT_A            GGGACUGACGAUCACGCAGUCUAU      1995-06-03   \n",
       "\n",
       "                                         description  \\\n",
       "0               THE SARCIN-RICIN LOOP, A MODULAR RNA   \n",
       "1  THE STRUCTURE OF AN RNA PSEUDOKNOT THAT CAUSES...   \n",
       "2  24-MER RNA HAIRPIN COAT PROTEIN BINDING SITE F...   \n",
       "\n",
       "                                       all_sequences  \n",
       "0  >1SCL_1|Chain A|RNA SARCIN-RICIN LOOP|Rattus n...  \n",
       "1  >1RNK_1|Chain A|RNA PSEUDOKNOT|null\\nGGCGCAGUG...  \n",
       "2  >1RHT_1|Chain A|RNA (5'-R(P*GP*GP*GP*AP*CP*UP*...  "
      ]
     },
     "execution_count": 9,
     "metadata": {},
     "output_type": "execute_result"
    }
   ],
   "source": [
    "train_seq[:3] #just to have in front of the eyes"
   ]
  },
  {
   "cell_type": "code",
   "execution_count": 10,
   "metadata": {
    "execution": {
     "iopub.execute_input": "2025-05-14T12:28:28.399572Z",
     "iopub.status.busy": "2025-05-14T12:28:28.399287Z",
     "iopub.status.idle": "2025-05-14T12:28:29.432495Z",
     "shell.execute_reply": "2025-05-14T12:28:29.431467Z",
     "shell.execute_reply.started": "2025-05-14T12:28:28.399548Z"
    },
    "id": "TiO1QKHeQPM5"
   },
   "outputs": [
    {
     "name": "stdout",
     "output_type": "stream",
     "text": [
      "count     844.000000\n",
      "mean      162.434834\n",
      "std       515.031957\n",
      "min         3.000000\n",
      "25%        22.000000\n",
      "50%        39.500000\n",
      "75%        86.000000\n",
      "max      4298.000000\n",
      "Name: sequence, dtype: float64\n"
     ]
    },
    {
     "data": {
      "image/png": "[encoded data removed]",
      "text/plain": [
       "<Figure size 640x480 with 1 Axes>"
      ]
     },
     "metadata": {},
     "output_type": "display_data"
    }
   ],
   "source": [
    "#lenght distribution\n",
    "\n",
    "print(train_seq.sequence.str.len().describe())\n",
    "\n",
    "plt.figure()\n",
    "_ = plt.hist(train_seq.sequence.str.len(), 300, log=True, range = (0, 300))"
   ]
  },
  {
   "cell_type": "code",
   "execution_count": 11,
   "metadata": {
    "execution": {
     "iopub.execute_input": "2025-05-14T12:28:29.433731Z",
     "iopub.status.busy": "2025-05-14T12:28:29.433456Z",
     "iopub.status.idle": "2025-05-14T12:28:29.437963Z",
     "shell.execute_reply": "2025-05-14T12:28:29.437146Z",
     "shell.execute_reply.started": "2025-05-14T12:28:29.433709Z"
    },
    "id": "8whtXOomQPM6"
   },
   "outputs": [],
   "source": [
    "selected_length = 250 #slightly higer than mean"
   ]
  },
  {
   "cell_type": "markdown",
   "metadata": {
    "id": "O0eV7DMMQPM7"
   },
   "source": [
    "### Operations on RNA sequences"
   ]
  },
  {
   "cell_type": "markdown",
   "metadata": {
    "id": "vvt7_hpwQPM7"
   },
   "source": [
    "**Train_** and **val_labels** have all information needed: <br />  \n",
    " - RNA `ID`'s;\n",
    " - coordinates `x_1`, `y_1`, `z_1`;\n",
    " - sequences can be built stepwise, nucleotide-by-nucleotide, from `resname`'s (using given ***selected_length***)\n",
    "\n",
    "To save currecnt sequence, I'll add a `sequence` column to **train_** and **val_labels** ."
   ]
  },
  {
   "cell_type": "code",
   "execution_count": 12,
   "metadata": {
    "execution": {
     "iopub.execute_input": "2025-05-14T12:28:29.439342Z",
     "iopub.status.busy": "2025-05-14T12:28:29.438989Z",
     "iopub.status.idle": "2025-05-14T12:28:29.516587Z",
     "shell.execute_reply": "2025-05-14T12:28:29.515654Z",
     "shell.execute_reply.started": "2025-05-14T12:28:29.439318Z"
    },
    "id": "20d5Fsn3QPM9"
   },
   "outputs": [],
   "source": [
    "#nucleotide encoding\n",
    "def encode_sequence(resname):\n",
    "    mapping = {'A': 8, 'U': 2, 'G': 6, 'C': 4}\n",
    "    return mapping[resname]\n",
    "\n",
    "train_lab.resname = train_lab.resname.apply(encode_sequence)\n",
    "val_lab.resname = val_lab.resname.apply(encode_sequence)"
   ]
  },
  {
   "cell_type": "code",
   "execution_count": 13,
   "metadata": {
    "execution": {
     "iopub.execute_input": "2025-05-14T12:28:29.517836Z",
     "iopub.status.busy": "2025-05-14T12:28:29.517538Z",
     "iopub.status.idle": "2025-05-14T12:28:36.63365Z",
     "shell.execute_reply": "2025-05-14T12:28:36.632574Z",
     "shell.execute_reply.started": "2025-05-14T12:28:29.517813Z"
    },
    "id": "vY4Te7gvQPM_"
   },
   "outputs": [],
   "source": [
    "#building stepwise (encoded) nucleotide sequence\n",
    "def add_nucleotide_to_sequence(lab):\n",
    "\n",
    "    sequence = []\n",
    "\n",
    "    for ID in lab.ID.unique():\n",
    "\n",
    "        #defining how long the sequence should be (lenght defined before: selected_length)\n",
    "        #strating sequence has all encoded nucleotides as zeros\n",
    "        add_codon = np.zeros(selected_length,)\n",
    "        rows = lab[lab.ID == ID]\n",
    "\n",
    "        # if sequence is smaller than selected_length:\n",
    "        for n in range(min(len(rows), selected_length)):\n",
    "            add_codon[n] = rows.resname.iloc[n]\n",
    "            sequence.append(add_codon.copy())\n",
    "\n",
    "        # if sequence is larger than selected_length:\n",
    "        for n in range(selected_length, len(rows)):\n",
    "            add_codon[:-1] = add_codon[1:]\n",
    "            add_codon[-1] = rows.resname.iloc[n]\n",
    "            sequence.append(add_codon.copy())\n",
    "\n",
    "    lab['sequence'] = sequence #addidng a sequence colum to save the current sequence\n",
    "\n",
    "add_nucleotide_to_sequence(train_lab)\n",
    "add_nucleotide_to_sequence(val_lab)"
   ]
  },
  {
   "cell_type": "code",
   "execution_count": 14,
   "metadata": {
    "execution": {
     "iopub.execute_input": "2025-05-14T12:28:36.634901Z",
     "iopub.status.busy": "2025-05-14T12:28:36.63461Z",
     "iopub.status.idle": "2025-05-14T12:28:36.650738Z",
     "shell.execute_reply": "2025-05-14T12:28:36.649663Z",
     "shell.execute_reply.started": "2025-05-14T12:28:36.634873Z"
    },
    "id": "Z-2n8wn0QPNA"
   },
   "outputs": [
    {
     "data": {
      "text/html": [
       "<div>\n",
       "<style scoped>\n",
       "    .dataframe tbody tr th:only-of-type {\n",
       "        vertical-align: middle;\n",
       "    }\n",
       "\n",
       "    .dataframe tbody tr th {\n",
       "        vertical-align: top;\n",
       "    }\n",
       "\n",
       "    .dataframe thead th {\n",
       "        text-align: right;\n",
       "    }\n",
       "</style>\n",
       "<table border=\"1\" class=\"dataframe\">\n",
       "  <thead>\n",
       "    <tr style=\"text-align: right;\">\n",
       "      <th></th>\n",
       "      <th>ID</th>\n",
       "      <th>resname</th>\n",
       "      <th>resid</th>\n",
       "      <th>x_1</th>\n",
       "      <th>y_1</th>\n",
       "      <th>z_1</th>\n",
       "      <th>sequence</th>\n",
       "    </tr>\n",
       "  </thead>\n",
       "  <tbody>\n",
       "    <tr>\n",
       "      <th>0</th>\n",
       "      <td>1SCL_A</td>\n",
       "      <td>6</td>\n",
       "      <td>1</td>\n",
       "      <td>13.760</td>\n",
       "      <td>-25.974001</td>\n",
       "      <td>0.102</td>\n",
       "      <td>[6.0, 0.0, 0.0, 0.0, 0.0, 0.0, 0.0, 0.0, 0.0, ...</td>\n",
       "    </tr>\n",
       "    <tr>\n",
       "      <th>1</th>\n",
       "      <td>1SCL_A</td>\n",
       "      <td>6</td>\n",
       "      <td>2</td>\n",
       "      <td>9.310</td>\n",
       "      <td>-29.638000</td>\n",
       "      <td>2.669</td>\n",
       "      <td>[6.0, 6.0, 0.0, 0.0, 0.0, 0.0, 0.0, 0.0, 0.0, ...</td>\n",
       "    </tr>\n",
       "    <tr>\n",
       "      <th>2</th>\n",
       "      <td>1SCL_A</td>\n",
       "      <td>6</td>\n",
       "      <td>3</td>\n",
       "      <td>5.529</td>\n",
       "      <td>-27.813000</td>\n",
       "      <td>5.878</td>\n",
       "      <td>[6.0, 6.0, 6.0, 0.0, 0.0, 0.0, 0.0, 0.0, 0.0, ...</td>\n",
       "    </tr>\n",
       "    <tr>\n",
       "      <th>3</th>\n",
       "      <td>1SCL_A</td>\n",
       "      <td>2</td>\n",
       "      <td>4</td>\n",
       "      <td>2.678</td>\n",
       "      <td>-24.900999</td>\n",
       "      <td>9.793</td>\n",
       "      <td>[6.0, 6.0, 6.0, 2.0, 0.0, 0.0, 0.0, 0.0, 0.0, ...</td>\n",
       "    </tr>\n",
       "    <tr>\n",
       "      <th>4</th>\n",
       "      <td>1SCL_A</td>\n",
       "      <td>6</td>\n",
       "      <td>5</td>\n",
       "      <td>1.827</td>\n",
       "      <td>-20.136000</td>\n",
       "      <td>11.793</td>\n",
       "      <td>[6.0, 6.0, 6.0, 2.0, 6.0, 0.0, 0.0, 0.0, 0.0, ...</td>\n",
       "    </tr>\n",
       "  </tbody>\n",
       "</table>\n",
       "</div>"
      ],
      "text/plain": [
       "       ID  resname  resid     x_1        y_1     z_1  \\\n",
       "0  1SCL_A        6      1  13.760 -25.974001   0.102   \n",
       "1  1SCL_A        6      2   9.310 -29.638000   2.669   \n",
       "2  1SCL_A        6      3   5.529 -27.813000   5.878   \n",
       "3  1SCL_A        2      4   2.678 -24.900999   9.793   \n",
       "4  1SCL_A        6      5   1.827 -20.136000  11.793   \n",
       "\n",
       "                                            sequence  \n",
       "0  [6.0, 0.0, 0.0, 0.0, 0.0, 0.0, 0.0, 0.0, 0.0, ...  \n",
       "1  [6.0, 6.0, 0.0, 0.0, 0.0, 0.0, 0.0, 0.0, 0.0, ...  \n",
       "2  [6.0, 6.0, 6.0, 0.0, 0.0, 0.0, 0.0, 0.0, 0.0, ...  \n",
       "3  [6.0, 6.0, 6.0, 2.0, 0.0, 0.0, 0.0, 0.0, 0.0, ...  \n",
       "4  [6.0, 6.0, 6.0, 2.0, 6.0, 0.0, 0.0, 0.0, 0.0, ...  "
      ]
     },
     "execution_count": 14,
     "metadata": {},
     "output_type": "execute_result"
    }
   ],
   "source": [
    "train_lab.head() #what it should look like in the end"
   ]
  },
  {
   "cell_type": "markdown",
   "metadata": {
    "id": "9pVZMb2xQPNC"
   },
   "source": [
    "###  Normalization"
   ]
  },
  {
   "cell_type": "markdown",
   "metadata": {
    "id": "sW2ST_vtQPND"
   },
   "source": [
    "By normalization, I mean the following:\n",
    "1. All RNA sequences should have the same starting point, which is 0;\n",
    "2. All RNA sequences should be in the same direction (e.g., the second nucleotide should have positive xyz coordinates);\n",
    "3. Scaling using MinMaxScaler"
   ]
  },
  {
   "cell_type": "code",
   "execution_count": 15,
   "metadata": {
    "execution": {
     "iopub.execute_input": "2025-05-14T12:28:36.652558Z",
     "iopub.status.busy": "2025-05-14T12:28:36.652133Z",
     "iopub.status.idle": "2025-05-14T12:29:42.90911Z",
     "shell.execute_reply": "2025-05-14T12:29:42.907959Z",
     "shell.execute_reply.started": "2025-05-14T12:28:36.652516Z"
    },
    "id": "cci2l_nUQPNE"
   },
   "outputs": [],
   "source": [
    "def normalizing_coords(lab):\n",
    "\n",
    "    for ID in lab.ID.unique():\n",
    "\n",
    "        for c in ['x_1', 'y_1', 'z_1']:\n",
    "\n",
    "            #normalization_1: shifting xyz coordinates that the 1st coordinate is 0, rest accordinly\n",
    "            lab.loc[lab.ID == ID, c] -= lab.loc[lab.ID == ID, c].iloc[0]\n",
    "            # normalization_2: mirrowing if any 2nd xyz coordinate(s) is/are negative\n",
    "            lab.loc[lab.ID == ID, c] *= np.sign(lab.loc[lab.ID == ID, c].iloc[1])\n",
    "\n",
    "normalizing_coords(train_lab)\n",
    "normalizing_coords(val_lab)"
   ]
  },
  {
   "cell_type": "code",
   "execution_count": 16,
   "metadata": {
    "execution": {
     "iopub.execute_input": "2025-05-14T12:29:42.910416Z",
     "iopub.status.busy": "2025-05-14T12:29:42.910107Z",
     "iopub.status.idle": "2025-05-14T12:29:42.92435Z",
     "shell.execute_reply": "2025-05-14T12:29:42.923144Z",
     "shell.execute_reply.started": "2025-05-14T12:29:42.910391Z"
    },
    "id": "q6f_ToAKQPNF"
   },
   "outputs": [
    {
     "data": {
      "text/html": [
       "<div>\n",
       "<style scoped>\n",
       "    .dataframe tbody tr th:only-of-type {\n",
       "        vertical-align: middle;\n",
       "    }\n",
       "\n",
       "    .dataframe tbody tr th {\n",
       "        vertical-align: top;\n",
       "    }\n",
       "\n",
       "    .dataframe thead th {\n",
       "        text-align: right;\n",
       "    }\n",
       "</style>\n",
       "<table border=\"1\" class=\"dataframe\">\n",
       "  <thead>\n",
       "    <tr style=\"text-align: right;\">\n",
       "      <th></th>\n",
       "      <th>ID</th>\n",
       "      <th>resname</th>\n",
       "      <th>resid</th>\n",
       "      <th>x_1</th>\n",
       "      <th>y_1</th>\n",
       "      <th>z_1</th>\n",
       "      <th>sequence</th>\n",
       "    </tr>\n",
       "  </thead>\n",
       "  <tbody>\n",
       "    <tr>\n",
       "      <th>0</th>\n",
       "      <td>1SCL_A</td>\n",
       "      <td>6</td>\n",
       "      <td>1</td>\n",
       "      <td>-0.000</td>\n",
       "      <td>-0.000000</td>\n",
       "      <td>0.000</td>\n",
       "      <td>[6.0, 0.0, 0.0, 0.0, 0.0, 0.0, 0.0, 0.0, 0.0, ...</td>\n",
       "    </tr>\n",
       "    <tr>\n",
       "      <th>1</th>\n",
       "      <td>1SCL_A</td>\n",
       "      <td>6</td>\n",
       "      <td>2</td>\n",
       "      <td>4.450</td>\n",
       "      <td>3.664000</td>\n",
       "      <td>2.567</td>\n",
       "      <td>[6.0, 6.0, 0.0, 0.0, 0.0, 0.0, 0.0, 0.0, 0.0, ...</td>\n",
       "    </tr>\n",
       "    <tr>\n",
       "      <th>2</th>\n",
       "      <td>1SCL_A</td>\n",
       "      <td>6</td>\n",
       "      <td>3</td>\n",
       "      <td>8.231</td>\n",
       "      <td>1.838999</td>\n",
       "      <td>5.776</td>\n",
       "      <td>[6.0, 6.0, 6.0, 0.0, 0.0, 0.0, 0.0, 0.0, 0.0, ...</td>\n",
       "    </tr>\n",
       "  </tbody>\n",
       "</table>\n",
       "</div>"
      ],
      "text/plain": [
       "       ID  resname  resid    x_1       y_1    z_1  \\\n",
       "0  1SCL_A        6      1 -0.000 -0.000000  0.000   \n",
       "1  1SCL_A        6      2  4.450  3.664000  2.567   \n",
       "2  1SCL_A        6      3  8.231  1.838999  5.776   \n",
       "\n",
       "                                            sequence  \n",
       "0  [6.0, 0.0, 0.0, 0.0, 0.0, 0.0, 0.0, 0.0, 0.0, ...  \n",
       "1  [6.0, 6.0, 0.0, 0.0, 0.0, 0.0, 0.0, 0.0, 0.0, ...  \n",
       "2  [6.0, 6.0, 6.0, 0.0, 0.0, 0.0, 0.0, 0.0, 0.0, ...  "
      ]
     },
     "execution_count": 16,
     "metadata": {},
     "output_type": "execute_result"
    }
   ],
   "source": [
    "train_lab[:3]"
   ]
  },
  {
   "cell_type": "code",
   "execution_count": 17,
   "metadata": {
    "execution": {
     "iopub.execute_input": "2025-05-14T12:29:42.926418Z",
     "iopub.status.busy": "2025-05-14T12:29:42.926059Z",
     "iopub.status.idle": "2025-05-14T12:29:43.141182Z",
     "shell.execute_reply": "2025-05-14T12:29:43.139978Z",
     "shell.execute_reply.started": "2025-05-14T12:29:42.92639Z"
    },
    "id": "HOMBsopeQPNG"
   },
   "outputs": [],
   "source": [
    "x_train = np.array(train_lab.sequence.to_list())\n",
    "y_train = train_lab[['x_1','y_1', 'z_1']]\n",
    "\n",
    "x_val = np.array(val_lab.sequence.to_list())\n",
    "y_val = val_lab[['x_1','y_1', 'z_1']]"
   ]
  },
  {
   "cell_type": "markdown",
   "metadata": {
    "id": "TcLv4gNCQPNH"
   },
   "source": [
    "# TensorFlow model"
   ]
  },
  {
   "cell_type": "code",
   "execution_count": 18,
   "metadata": {
    "execution": {
     "iopub.execute_input": "2025-05-14T12:55:08.525865Z",
     "iopub.status.busy": "2025-05-14T12:55:08.525496Z",
     "iopub.status.idle": "2025-05-14T12:55:08.537412Z",
     "shell.execute_reply": "2025-05-14T12:55:08.536237Z",
     "shell.execute_reply.started": "2025-05-14T12:55:08.525833Z"
    },
    "id": "Y30JLDu7QPNH"
   },
   "outputs": [
    {
     "name": "stdout",
     "output_type": "stream",
     "text": [
      "WARNING:tensorflow:From C:\\Users\\DELL E5480\\AppData\\Roaming\\Python\\Python310\\site-packages\\keras\\src\\backend.py:873: The name tf.get_default_graph is deprecated. Please use tf.compat.v1.get_default_graph instead.\n",
      "\n"
     ]
    }
   ],
   "source": [
    "model = Sequential(\n",
    "    [\n",
    "        Dense(128, activation='relu',\n",
    "                    kernel_regularizer=regularizers.l1(0.0001)),\n",
    "        Dense(256, activation='relu',\n",
    "                    kernel_regularizer=regularizers.l1(0.0001)),\n",
    "        Dense(512, activation='relu',\n",
    "                    kernel_regularizer=regularizers.l1(0.0001)),\n",
    "        Dense(3, activation = 'relu', kernel_regularizer=regularizers.l1(0.0001))\n",
    "    ]\n",
    ")"
   ]
  },
  {
   "cell_type": "code",
   "execution_count": 20,
   "metadata": {
    "execution": {
     "execution_failed": "2025-05-15T09:27:34.535Z",
     "iopub.execute_input": "2025-05-14T12:55:12.517825Z",
     "iopub.status.busy": "2025-05-14T12:55:12.517447Z"
    },
    "id": "KAa_DIx7QPNI"
   },
   "outputs": [
    {
     "name": "stdout",
     "output_type": "stream",
     "text": [
      "WARNING:tensorflow:From C:\\Users\\DELL E5480\\AppData\\Roaming\\Python\\Python310\\site-packages\\keras\\src\\utils\\tf_utils.py:492: The name tf.ragged.RaggedTensorValue is deprecated. Please use tf.compat.v1.ragged.RaggedTensorValue instead.\n",
      "\n",
      "WARNING:tensorflow:From C:\\Users\\DELL E5480\\AppData\\Roaming\\Python\\Python310\\site-packages\\keras\\src\\engine\\base_layer_utils.py:384: The name tf.executing_eagerly_outside_functions is deprecated. Please use tf.compat.v1.executing_eagerly_outside_functions instead.\n",
      "\n",
      "Max validation accuracy: 0.55\n"
     ]
    }
   ],
   "source": [
    "model.compile(loss = \"MeanSquaredError\",\n",
    "              optimizer=tf.keras.optimizers.AdamW(learning_rate=0.0007),\n",
    "              metrics=['accuracy'])\n",
    "\n",
    "model.fit(\n",
    "     x_train, y_train,\n",
    "     validation_data = (x_val, y_val),\n",
    "     epochs = 100,\n",
    "     verbose = 0)\n",
    "\n",
    "print(f\"Max validation accuracy: {(max(model.history.history['val_accuracy'])):.2f}\")"
   ]
  },
  {
   "cell_type": "markdown",
   "metadata": {
    "id": "MnvmgD0gQPNJ"
   },
   "source": [
    "# Prediction "
   ]
  },
  {
   "cell_type": "code",
   "execution_count": 25,
   "metadata": {
    "id": "0hRieGpvQPNK"
   },
   "outputs": [
    {
     "name": "stdout",
     "output_type": "stream",
     "text": [
      "1/1 [==============================] - 0s 52ms/step\n",
      "       ID  resname  resid                                           sequence  \\\n",
      "0  1SCL_A        6      1  [6.0, 0.0, 0.0, 0.0, 0.0, 0.0, 0.0, 0.0, 0.0, ...   \n",
      "1  1SCL_A        6      2  [6.0, 6.0, 0.0, 0.0, 0.0, 0.0, 0.0, 0.0, 0.0, ...   \n",
      "2  1SCL_A        6      3  [6.0, 6.0, 6.0, 0.0, 0.0, 0.0, 0.0, 0.0, 0.0, ...   \n",
      "3  1SCL_A        2      4  [6.0, 6.0, 6.0, 2.0, 0.0, 0.0, 0.0, 0.0, 0.0, ...   \n",
      "4  1SCL_A        8      5  [6.0, 6.0, 6.0, 2.0, 8.0, 0.0, 0.0, 0.0, 0.0, ...   \n",
      "\n",
      "          x         y         z  \n",
      "0  0.000000  0.000000  0.000000  \n",
      "1  3.069310  2.727004  3.462676  \n",
      "2  5.090862  4.950042  4.738385  \n",
      "3  6.021756  5.947459  5.228395  \n",
      "4  5.087852  8.957398  9.736097  \n"
     ]
    }
   ],
   "source": [
    "# ---- Define your custom input sequence ----\n",
    "custom_sequence = \"GGGUA\"\n",
    "sequence_id = \"1SCL_A\"  # or any string to tag this run\n",
    "\n",
    "# ---- Build input DataFrame ----\n",
    "def create_custom_input_df(sequence, sequence_id):\n",
    "    n = len(sequence)\n",
    "    df = pd.DataFrame({\n",
    "        \"ID\": [f\"{sequence_id}\"] * n,\n",
    "        \"resname\": list(sequence),\n",
    "        \"resid\": list(range(1, n + 1))\n",
    "    })\n",
    "    return df\n",
    "\n",
    "# ---- Prepare and Predict ----\n",
    "df = create_custom_input_df(custom_sequence, sequence_id)\n",
    "\n",
    "# --- Encode sequence ---\n",
    "df['resname'] = df['resname'].apply(encode_sequence)\n",
    "\n",
    "# --- Create windowed sequence ---\n",
    "add_nucleotide_to_sequence(df)  # this adds a new `sequence` column\n",
    "\n",
    "# --- Convert to model input ---\n",
    "x_input = np.array(df['sequence'].to_list())\n",
    "\n",
    "# --- Predict coordinates ---\n",
    "y_pred = model.predict(x_input)  # shape: (n, 3*atoms)\n",
    "\n",
    "# --- Format the output ---\n",
    "n_atoms = y_pred.shape[1] // 3\n",
    "coord_columns = [f\"{axis}\" for i in range(1, n_atoms+1) for axis in [\"x\", \"y\", \"z\"]]\n",
    "coords_df = pd.DataFrame(y_pred, columns=coord_columns)\n",
    "\n",
    "# --- Combine with metadata ---\n",
    "final_output = pd.concat([df[[\"ID\", \"resname\", \"resid\", \"sequence\"]], coords_df], axis=1)\n",
    "\n",
    "# ---- Done! ----\n",
    "print(final_output.head())"
   ]
  },
  {
   "cell_type": "code",
   "execution_count": null,
   "metadata": {},
   "outputs": [],
   "source": []
  }
 ],
 "metadata": {
  "colab": {
   "provenance": []
  },
  "kaggle": {
   "accelerator": "none",
   "dataSources": [
    {
     "databundleVersionId": 12276181,
     "sourceId": 87793,
     "sourceType": "competition"
    }
   ],
   "dockerImageVersionId": 30918,
   "isGpuEnabled": false,
   "isInternetEnabled": false,
   "language": "python",
   "sourceType": "notebook"
  },
  "kernelspec": {
   "display_name": "Python 3 (ipykernel)",
   "language": "python",
   "name": "python3"
  },
  "language_info": {
   "codemirror_mode": {
    "name": "ipython",
    "version": 3
   },
   "file_extension": ".py",
   "mimetype": "text/x-python",
   "name": "python",
   "nbconvert_exporter": "python",
   "pygments_lexer": "ipython3",
   "version": "3.10.9"
  },
  "widgets": {
   "application/vnd.jupyter.widget-state+json": {
    "0bc88f2b9f354ff292d59944b8338c16": {
     "model_module": "@jupyter-widgets/base",
     "model_module_version": "1.2.0",
     "model_name": "LayoutModel",
     "state": {
      "_model_module": "@jupyter-widgets/base",
      "_model_module_version": "1.2.0",
      "_model_name": "LayoutModel",
      "_view_count": null,
      "_view_module": "@jupyter-widgets/base",
      "_view_module_version": "1.2.0",
      "_view_name": "LayoutView",
      "align_content": null,
      "align_items": null,
      "align_self": null,
      "border": null,
      "bottom": null,
      "display": null,
      "flex": null,
      "flex_flow": null,
      "grid_area": null,
      "grid_auto_columns": null,
      "grid_auto_flow": null,
      "grid_auto_rows": null,
      "grid_column": null,
      "grid_gap": null,
      "grid_row": null,
      "grid_template_areas": null,
      "grid_template_columns": null,
      "grid_template_rows": null,
      "height": null,
      "justify_content": null,
      "justify_items": null,
      "left": null,
      "margin": null,
      "max_height": null,
      "max_width": null,
      "min_height": null,
      "min_width": null,
      "object_fit": null,
      "object_position": null,
      "order": null,
      "overflow": null,
      "overflow_x": null,
      "overflow_y": null,
      "padding": null,
      "right": null,
      "top": null,
      "visibility": null,
      "width": null
     }
    },
    "0bedf80526db4c3e8814a38ea27cab97": {
     "model_module": "@jupyter-widgets/base",
     "model_module_version": "1.2.0",
     "model_name": "LayoutModel",
     "state": {
      "_model_module": "@jupyter-widgets/base",
      "_model_module_version": "1.2.0",
      "_model_name": "LayoutModel",
      "_view_count": null,
      "_view_module": "@jupyter-widgets/base",
      "_view_module_version": "1.2.0",
      "_view_name": "LayoutView",
      "align_content": null,
      "align_items": null,
      "align_self": null,
      "border": null,
      "bottom": null,
      "display": null,
      "flex": null,
      "flex_flow": null,
      "grid_area": null,
      "grid_auto_columns": null,
      "grid_auto_flow": null,
      "grid_auto_rows": null,
      "grid_column": null,
      "grid_gap": null,
      "grid_row": null,
      "grid_template_areas": null,
      "grid_template_columns": null,
      "grid_template_rows": null,
      "height": null,
      "justify_content": null,
      "justify_items": null,
      "left": null,
      "margin": null,
      "max_height": null,
      "max_width": null,
      "min_height": null,
      "min_width": null,
      "object_fit": null,
      "object_position": null,
      "order": null,
      "overflow": null,
      "overflow_x": null,
      "overflow_y": null,
      "padding": null,
      "right": null,
      "top": null,
      "visibility": null,
      "width": null
     }
    },
    "11e139e44c6645a7848b92b9af1a0644": {
     "model_module": "@jupyter-widgets/controls",
     "model_module_version": "1.5.0",
     "model_name": "PasswordModel",
     "state": {
      "_dom_classes": [],
      "_model_module": "@jupyter-widgets/controls",
      "_model_module_version": "1.5.0",
      "_model_name": "PasswordModel",
      "_view_count": null,
      "_view_module": "@jupyter-widgets/controls",
      "_view_module_version": "1.5.0",
      "_view_name": "PasswordView",
      "continuous_update": true,
      "description": "Token:",
      "description_tooltip": null,
      "disabled": false,
      "layout": "IPY_MODEL_ad0c0100f52e44b79577957756c7eb14",
      "placeholder": "​",
      "style": "IPY_MODEL_7a06be7f89cc44cc91c421f7bb8bd147",
      "value": ""
     }
    },
    "140ad881d8b64178a0082ac0691b766c": {
     "model_module": "@jupyter-widgets/controls",
     "model_module_version": "1.5.0",
     "model_name": "VBoxModel",
     "state": {
      "_dom_classes": [],
      "_model_module": "@jupyter-widgets/controls",
      "_model_module_version": "1.5.0",
      "_model_name": "VBoxModel",
      "_view_count": null,
      "_view_module": "@jupyter-widgets/controls",
      "_view_module_version": "1.5.0",
      "_view_name": "VBoxView",
      "box_style": "",
      "children": [
       "IPY_MODEL_69afd097c80d4a7aabacd77ac6422563"
      ],
      "layout": "IPY_MODEL_8f63585c309e40e4a9dc9a34e7bec225"
     }
    },
    "177b4c4fe56f4187ac00512cffa86c99": {
     "model_module": "@jupyter-widgets/controls",
     "model_module_version": "1.5.0",
     "model_name": "DescriptionStyleModel",
     "state": {
      "_model_module": "@jupyter-widgets/controls",
      "_model_module_version": "1.5.0",
      "_model_name": "DescriptionStyleModel",
      "_view_count": null,
      "_view_module": "@jupyter-widgets/base",
      "_view_module_version": "1.2.0",
      "_view_name": "StyleView",
      "description_width": ""
     }
    },
    "1840cd822474419ab3f290b5e9cde5c3": {
     "model_module": "@jupyter-widgets/controls",
     "model_module_version": "1.5.0",
     "model_name": "DescriptionStyleModel",
     "state": {
      "_model_module": "@jupyter-widgets/controls",
      "_model_module_version": "1.5.0",
      "_model_name": "DescriptionStyleModel",
      "_view_count": null,
      "_view_module": "@jupyter-widgets/base",
      "_view_module_version": "1.2.0",
      "_view_name": "StyleView",
      "description_width": ""
     }
    },
    "1eec389b240d43c8a9000787626c8650": {
     "model_module": "@jupyter-widgets/base",
     "model_module_version": "1.2.0",
     "model_name": "LayoutModel",
     "state": {
      "_model_module": "@jupyter-widgets/base",
      "_model_module_version": "1.2.0",
      "_model_name": "LayoutModel",
      "_view_count": null,
      "_view_module": "@jupyter-widgets/base",
      "_view_module_version": "1.2.0",
      "_view_name": "LayoutView",
      "align_content": null,
      "align_items": null,
      "align_self": null,
      "border": null,
      "bottom": null,
      "display": null,
      "flex": null,
      "flex_flow": null,
      "grid_area": null,
      "grid_auto_columns": null,
      "grid_auto_flow": null,
      "grid_auto_rows": null,
      "grid_column": null,
      "grid_gap": null,
      "grid_row": null,
      "grid_template_areas": null,
      "grid_template_columns": null,
      "grid_template_rows": null,
      "height": null,
      "justify_content": null,
      "justify_items": null,
      "left": null,
      "margin": null,
      "max_height": null,
      "max_width": null,
      "min_height": null,
      "min_width": null,
      "object_fit": null,
      "object_position": null,
      "order": null,
      "overflow": null,
      "overflow_x": null,
      "overflow_y": null,
      "padding": null,
      "right": null,
      "top": null,
      "visibility": null,
      "width": null
     }
    },
    "3c663d42de3a43b2a79932a34a407161": {
     "model_module": "@jupyter-widgets/controls",
     "model_module_version": "1.5.0",
     "model_name": "ButtonStyleModel",
     "state": {
      "_model_module": "@jupyter-widgets/controls",
      "_model_module_version": "1.5.0",
      "_model_name": "ButtonStyleModel",
      "_view_count": null,
      "_view_module": "@jupyter-widgets/base",
      "_view_module_version": "1.2.0",
      "_view_name": "StyleView",
      "button_color": null,
      "font_weight": ""
     }
    },
    "4527510146e14db086f89ff3d4ec554e": {
     "model_module": "@jupyter-widgets/base",
     "model_module_version": "1.2.0",
     "model_name": "LayoutModel",
     "state": {
      "_model_module": "@jupyter-widgets/base",
      "_model_module_version": "1.2.0",
      "_model_name": "LayoutModel",
      "_view_count": null,
      "_view_module": "@jupyter-widgets/base",
      "_view_module_version": "1.2.0",
      "_view_name": "LayoutView",
      "align_content": null,
      "align_items": null,
      "align_self": null,
      "border": null,
      "bottom": null,
      "display": null,
      "flex": null,
      "flex_flow": null,
      "grid_area": null,
      "grid_auto_columns": null,
      "grid_auto_flow": null,
      "grid_auto_rows": null,
      "grid_column": null,
      "grid_gap": null,
      "grid_row": null,
      "grid_template_areas": null,
      "grid_template_columns": null,
      "grid_template_rows": null,
      "height": null,
      "justify_content": null,
      "justify_items": null,
      "left": null,
      "margin": null,
      "max_height": null,
      "max_width": null,
      "min_height": null,
      "min_width": null,
      "object_fit": null,
      "object_position": null,
      "order": null,
      "overflow": null,
      "overflow_x": null,
      "overflow_y": null,
      "padding": null,
      "right": null,
      "top": null,
      "visibility": null,
      "width": null
     }
    },
    "69afd097c80d4a7aabacd77ac6422563": {
     "model_module": "@jupyter-widgets/controls",
     "model_module_version": "1.5.0",
     "model_name": "LabelModel",
     "state": {
      "_dom_classes": [],
      "_model_module": "@jupyter-widgets/controls",
      "_model_module_version": "1.5.0",
      "_model_name": "LabelModel",
      "_view_count": null,
      "_view_module": "@jupyter-widgets/controls",
      "_view_module_version": "1.5.0",
      "_view_name": "LabelView",
      "description": "",
      "description_tooltip": null,
      "layout": "IPY_MODEL_4527510146e14db086f89ff3d4ec554e",
      "placeholder": "​",
      "style": "IPY_MODEL_c0b556492539411ea16ac38d1340d648",
      "value": "Kaggle credentials successfully validated."
     }
    },
    "7a06be7f89cc44cc91c421f7bb8bd147": {
     "model_module": "@jupyter-widgets/controls",
     "model_module_version": "1.5.0",
     "model_name": "DescriptionStyleModel",
     "state": {
      "_model_module": "@jupyter-widgets/controls",
      "_model_module_version": "1.5.0",
      "_model_name": "DescriptionStyleModel",
      "_view_count": null,
      "_view_module": "@jupyter-widgets/base",
      "_view_module_version": "1.2.0",
      "_view_name": "StyleView",
      "description_width": ""
     }
    },
    "8f63585c309e40e4a9dc9a34e7bec225": {
     "model_module": "@jupyter-widgets/base",
     "model_module_version": "1.2.0",
     "model_name": "LayoutModel",
     "state": {
      "_model_module": "@jupyter-widgets/base",
      "_model_module_version": "1.2.0",
      "_model_name": "LayoutModel",
      "_view_count": null,
      "_view_module": "@jupyter-widgets/base",
      "_view_module_version": "1.2.0",
      "_view_name": "LayoutView",
      "align_content": null,
      "align_items": "center",
      "align_self": null,
      "border": null,
      "bottom": null,
      "display": "flex",
      "flex": null,
      "flex_flow": "column",
      "grid_area": null,
      "grid_auto_columns": null,
      "grid_auto_flow": null,
      "grid_auto_rows": null,
      "grid_column": null,
      "grid_gap": null,
      "grid_row": null,
      "grid_template_areas": null,
      "grid_template_columns": null,
      "grid_template_rows": null,
      "height": null,
      "justify_content": null,
      "justify_items": null,
      "left": null,
      "margin": null,
      "max_height": null,
      "max_width": null,
      "min_height": null,
      "min_width": null,
      "object_fit": null,
      "object_position": null,
      "order": null,
      "overflow": null,
      "overflow_x": null,
      "overflow_y": null,
      "padding": null,
      "right": null,
      "top": null,
      "visibility": null,
      "width": "50%"
     }
    },
    "94d6a2723ab04b7da3bfecd351a26716": {
     "model_module": "@jupyter-widgets/controls",
     "model_module_version": "1.5.0",
     "model_name": "ButtonModel",
     "state": {
      "_dom_classes": [],
      "_model_module": "@jupyter-widgets/controls",
      "_model_module_version": "1.5.0",
      "_model_name": "ButtonModel",
      "_view_count": null,
      "_view_module": "@jupyter-widgets/controls",
      "_view_module_version": "1.5.0",
      "_view_name": "ButtonView",
      "button_style": "",
      "description": "Login",
      "disabled": false,
      "icon": "",
      "layout": "IPY_MODEL_de3404950e0e4ba29d46581fc910337a",
      "style": "IPY_MODEL_3c663d42de3a43b2a79932a34a407161",
      "tooltip": ""
     }
    },
    "ad0c0100f52e44b79577957756c7eb14": {
     "model_module": "@jupyter-widgets/base",
     "model_module_version": "1.2.0",
     "model_name": "LayoutModel",
     "state": {
      "_model_module": "@jupyter-widgets/base",
      "_model_module_version": "1.2.0",
      "_model_name": "LayoutModel",
      "_view_count": null,
      "_view_module": "@jupyter-widgets/base",
      "_view_module_version": "1.2.0",
      "_view_name": "LayoutView",
      "align_content": null,
      "align_items": null,
      "align_self": null,
      "border": null,
      "bottom": null,
      "display": null,
      "flex": null,
      "flex_flow": null,
      "grid_area": null,
      "grid_auto_columns": null,
      "grid_auto_flow": null,
      "grid_auto_rows": null,
      "grid_column": null,
      "grid_gap": null,
      "grid_row": null,
      "grid_template_areas": null,
      "grid_template_columns": null,
      "grid_template_rows": null,
      "height": null,
      "justify_content": null,
      "justify_items": null,
      "left": null,
      "margin": null,
      "max_height": null,
      "max_width": null,
      "min_height": null,
      "min_width": null,
      "object_fit": null,
      "object_position": null,
      "order": null,
      "overflow": null,
      "overflow_x": null,
      "overflow_y": null,
      "padding": null,
      "right": null,
      "top": null,
      "visibility": null,
      "width": null
     }
    },
    "c0b556492539411ea16ac38d1340d648": {
     "model_module": "@jupyter-widgets/controls",
     "model_module_version": "1.5.0",
     "model_name": "DescriptionStyleModel",
     "state": {
      "_model_module": "@jupyter-widgets/controls",
      "_model_module_version": "1.5.0",
      "_model_name": "DescriptionStyleModel",
      "_view_count": null,
      "_view_module": "@jupyter-widgets/base",
      "_view_module_version": "1.2.0",
      "_view_name": "StyleView",
      "description_width": ""
     }
    },
    "c19c8c6f7107443f837488d02624e8b5": {
     "model_module": "@jupyter-widgets/controls",
     "model_module_version": "1.5.0",
     "model_name": "HTMLModel",
     "state": {
      "_dom_classes": [],
      "_model_module": "@jupyter-widgets/controls",
      "_model_module_version": "1.5.0",
      "_model_name": "HTMLModel",
      "_view_count": null,
      "_view_module": "@jupyter-widgets/controls",
      "_view_module_version": "1.5.0",
      "_view_name": "HTMLView",
      "description": "",
      "description_tooltip": null,
      "layout": "IPY_MODEL_1eec389b240d43c8a9000787626c8650",
      "placeholder": "​",
      "style": "IPY_MODEL_c1ac2cba1dab48afbefafd8729de711c",
      "value": "\n<b>Thank You</b></center>"
     }
    },
    "c1ac2cba1dab48afbefafd8729de711c": {
     "model_module": "@jupyter-widgets/controls",
     "model_module_version": "1.5.0",
     "model_name": "DescriptionStyleModel",
     "state": {
      "_model_module": "@jupyter-widgets/controls",
      "_model_module_version": "1.5.0",
      "_model_name": "DescriptionStyleModel",
      "_view_count": null,
      "_view_module": "@jupyter-widgets/base",
      "_view_module_version": "1.2.0",
      "_view_name": "StyleView",
      "description_width": ""
     }
    },
    "de3404950e0e4ba29d46581fc910337a": {
     "model_module": "@jupyter-widgets/base",
     "model_module_version": "1.2.0",
     "model_name": "LayoutModel",
     "state": {
      "_model_module": "@jupyter-widgets/base",
      "_model_module_version": "1.2.0",
      "_model_name": "LayoutModel",
      "_view_count": null,
      "_view_module": "@jupyter-widgets/base",
      "_view_module_version": "1.2.0",
      "_view_name": "LayoutView",
      "align_content": null,
      "align_items": null,
      "align_self": null,
      "border": null,
      "bottom": null,
      "display": null,
      "flex": null,
      "flex_flow": null,
      "grid_area": null,
      "grid_auto_columns": null,
      "grid_auto_flow": null,
      "grid_auto_rows": null,
      "grid_column": null,
      "grid_gap": null,
      "grid_row": null,
      "grid_template_areas": null,
      "grid_template_columns": null,
      "grid_template_rows": null,
      "height": null,
      "justify_content": null,
      "justify_items": null,
      "left": null,
      "margin": null,
      "max_height": null,
      "max_width": null,
      "min_height": null,
      "min_width": null,
      "object_fit": null,
      "object_position": null,
      "order": null,
      "overflow": null,
      "overflow_x": null,
      "overflow_y": null,
      "padding": null,
      "right": null,
      "top": null,
      "visibility": null,
      "width": null
     }
    },
    "eac4a1066ad144d6af342694f9850ee3": {
     "model_module": "@jupyter-widgets/controls",
     "model_module_version": "1.5.0",
     "model_name": "HTMLModel",
     "state": {
      "_dom_classes": [],
      "_model_module": "@jupyter-widgets/controls",
      "_model_module_version": "1.5.0",
      "_model_name": "HTMLModel",
      "_view_count": null,
      "_view_module": "@jupyter-widgets/controls",
      "_view_module_version": "1.5.0",
      "_view_name": "HTMLView",
      "description": "",
      "description_tooltip": null,
      "layout": "IPY_MODEL_0bedf80526db4c3e8814a38ea27cab97",
      "placeholder": "​",
      "style": "IPY_MODEL_eb7062eed2c143189be0000b900359fe",
      "value": "<center> <img\nsrc=https://www.kaggle.com/static/images/site-logo.png\nalt='Kaggle'> <br> Create an API token from <a\nhref=\"https://www.kaggle.com/settings/account\" target=\"_blank\">your Kaggle\nsettings page</a> and paste it below along with your Kaggle username. <br> </center>"
     }
    },
    "eb7062eed2c143189be0000b900359fe": {
     "model_module": "@jupyter-widgets/controls",
     "model_module_version": "1.5.0",
     "model_name": "DescriptionStyleModel",
     "state": {
      "_model_module": "@jupyter-widgets/controls",
      "_model_module_version": "1.5.0",
      "_model_name": "DescriptionStyleModel",
      "_view_count": null,
      "_view_module": "@jupyter-widgets/base",
      "_view_module_version": "1.2.0",
      "_view_name": "StyleView",
      "description_width": ""
     }
    },
    "ee08003d3c2d4af5b4239dcfc59c1c76": {
     "model_module": "@jupyter-widgets/controls",
     "model_module_version": "1.5.0",
     "model_name": "LabelModel",
     "state": {
      "_dom_classes": [],
      "_model_module": "@jupyter-widgets/controls",
      "_model_module_version": "1.5.0",
      "_model_name": "LabelModel",
      "_view_count": null,
      "_view_module": "@jupyter-widgets/controls",
      "_view_module_version": "1.5.0",
      "_view_name": "LabelView",
      "description": "",
      "description_tooltip": null,
      "layout": "IPY_MODEL_0bc88f2b9f354ff292d59944b8338c16",
      "placeholder": "​",
      "style": "IPY_MODEL_177b4c4fe56f4187ac00512cffa86c99",
      "value": "Connecting..."
     }
    },
    "f5aafce091b543ac8297d294e02b149a": {
     "model_module": "@jupyter-widgets/base",
     "model_module_version": "1.2.0",
     "model_name": "LayoutModel",
     "state": {
      "_model_module": "@jupyter-widgets/base",
      "_model_module_version": "1.2.0",
      "_model_name": "LayoutModel",
      "_view_count": null,
      "_view_module": "@jupyter-widgets/base",
      "_view_module_version": "1.2.0",
      "_view_name": "LayoutView",
      "align_content": null,
      "align_items": null,
      "align_self": null,
      "border": null,
      "bottom": null,
      "display": null,
      "flex": null,
      "flex_flow": null,
      "grid_area": null,
      "grid_auto_columns": null,
      "grid_auto_flow": null,
      "grid_auto_rows": null,
      "grid_column": null,
      "grid_gap": null,
      "grid_row": null,
      "grid_template_areas": null,
      "grid_template_columns": null,
      "grid_template_rows": null,
      "height": null,
      "justify_content": null,
      "justify_items": null,
      "left": null,
      "margin": null,
      "max_height": null,
      "max_width": null,
      "min_height": null,
      "min_width": null,
      "object_fit": null,
      "object_position": null,
      "order": null,
      "overflow": null,
      "overflow_x": null,
      "overflow_y": null,
      "padding": null,
      "right": null,
      "top": null,
      "visibility": null,
      "width": null
     }
    },
    "f8c18bbcbb4449daaca16a722ab8c16c": {
     "model_module": "@jupyter-widgets/controls",
     "model_module_version": "1.5.0",
     "model_name": "TextModel",
     "state": {
      "_dom_classes": [],
      "_model_module": "@jupyter-widgets/controls",
      "_model_module_version": "1.5.0",
      "_model_name": "TextModel",
      "_view_count": null,
      "_view_module": "@jupyter-widgets/controls",
      "_view_module_version": "1.5.0",
      "_view_name": "TextView",
      "continuous_update": true,
      "description": "Username:",
      "description_tooltip": null,
      "disabled": false,
      "layout": "IPY_MODEL_f5aafce091b543ac8297d294e02b149a",
      "placeholder": "​",
      "style": "IPY_MODEL_1840cd822474419ab3f290b5e9cde5c3",
      "value": "rohitkakasahebingle"
     }
    }
   }
  }
 },
 "nbformat": 4,
 "nbformat_minor": 1
}
